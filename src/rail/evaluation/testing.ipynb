{
 "cells": [
  {
   "cell_type": "code",
   "execution_count": 1,
   "metadata": {},
   "outputs": [],
   "source": [
    "import tables_io\n",
    "\n",
    "from rail.evaluation.dist_to_dist_evaluator import DistToDistEvaluator\n",
    "from rail.evaluation.dist_to_point_evaluator import DistToPointEvaluator\n",
    "from rail.evaluation.point_to_point_evaluator import PointToPointEvaluator\n",
    "from rail.core.stage import RailStage\n",
    "from rail.core.data import QPHandle, TableHandle\n",
    "\n",
    "DS = RailStage.data_store\n",
    "DS.__class__.allow_overwrite = True"
   ]
  },
  {
   "cell_type": "markdown",
   "metadata": {},
   "source": [
    "# Load example Data"
   ]
  },
  {
   "cell_type": "code",
   "execution_count": 2,
   "metadata": {},
   "outputs": [],
   "source": [
    "import os\n",
    "from rail.core.utils import find_rail_file\n",
    "possible_local_file = './examples_data/evaluation_data/data/output_fzboost.hdf5'\n",
    "if os.path.exists(possible_local_file):\n",
    "    pdfs_file = os.path.abspath(possible_local_file)\n",
    "else:\n",
    "    pdfs_file = 'examples_data/evaluation_data/data/output_fzboost.hdf5'\n",
    "    try:\n",
    "        os.makedirs(os.path.dirname(pdfs_file))\n",
    "    except FileExistsError:\n",
    "        pass\n",
    "    curl_com = f\"curl -o {pdfs_file} https://portal.nersc.gov/cfs/lsst/PZ/output_fzboost.hdf5\"\n",
    "    os.system(curl_com)\n",
    "\n",
    "ztrue_file = find_rail_file('examples_data/testdata/test_dc2_validation_9816.hdf5')"
   ]
  },
  {
   "cell_type": "code",
   "execution_count": 3,
   "metadata": {},
   "outputs": [],
   "source": [
    "ensemble = DS.read_file(key='pdfs_data', handle_class=QPHandle, path=pdfs_file)\n",
    "ztrue_data = DS.read_file('ztrue_data', TableHandle, ztrue_file)\n",
    "#truth = DS.add_data('truth', ztrue_data()['photometry'], TableHandle, path=ztrue_file)\n",
    "#truth_points = DS.add_data('truth_points', ztrue_data()['photometry']['redshift'], TableHandle, path=ztrue_file)"
   ]
  },
  {
   "cell_type": "markdown",
   "metadata": {},
   "source": [
    "# Dist to Dist Evaluation"
   ]
  },
  {
   "cell_type": "code",
   "execution_count": 4,
   "metadata": {},
   "outputs": [],
   "source": [
    "# 'cvm' takes about 3.5 minutes to run\n",
    "# 'ad' takes about ~4 minutes to run\n",
    "# 'ks' takes about 2.75 minutes to run\n",
    "# 'kld' takes about X minutes to run\n",
    "\n",
    "stage_dict = dict(\n",
    "    metrics=['cvm', 'ks', 'omega', 'kld'],\n",
    "    _random_state=None,\n",
    ")\n",
    "\n",
    "dtd_stage = DistToDistEvaluator.make_stage(name='dist_to_dist', **stage_dict)"
   ]
  },
  {
   "cell_type": "code",
   "execution_count": 5,
   "metadata": {},
   "outputs": [
    {
     "name": "stdout",
     "output_type": "stream",
     "text": [
      "Requested metrics: ['cvm', 'ks', 'omega', 'kld']\n",
      "Processing 0 running evaluator on chunk 0 - 1000.\n",
      "Inserting handle into data store.  output_dist_to_dist: inprogress_output_dist_to_dist.hdf5, dist_to_dist\n",
      "Processing 0 running evaluator on chunk 1000 - 2000.\n",
      "Processing 0 running evaluator on chunk 2000 - 3000.\n",
      "Processing 0 running evaluator on chunk 3000 - 4000.\n",
      "Processing 0 running evaluator on chunk 4000 - 5000.\n",
      "Processing 0 running evaluator on chunk 5000 - 6000.\n",
      "Processing 0 running evaluator on chunk 6000 - 7000.\n",
      "Processing 0 running evaluator on chunk 7000 - 8000.\n",
      "Processing 0 running evaluator on chunk 8000 - 9000.\n",
      "Processing 0 running evaluator on chunk 9000 - 10000.\n",
      "Processing 0 running evaluator on chunk 10000 - 11000.\n",
      "Processing 0 running evaluator on chunk 11000 - 12000.\n",
      "Processing 0 running evaluator on chunk 12000 - 13000.\n",
      "Processing 0 running evaluator on chunk 13000 - 14000.\n",
      "Processing 0 running evaluator on chunk 14000 - 15000.\n",
      "Processing 0 running evaluator on chunk 15000 - 16000.\n",
      "Processing 0 running evaluator on chunk 16000 - 17000.\n",
      "Processing 0 running evaluator on chunk 17000 - 18000.\n",
      "Processing 0 running evaluator on chunk 18000 - 19000.\n",
      "Processing 0 running evaluator on chunk 19000 - 20000.\n",
      "Processing 0 running evaluator on chunk 20000 - 20449.\n",
      "Inserting handle into data store.  summary_dist_to_dist: inprogress_summary_dist_to_dist.hdf5, dist_to_dist\n"
     ]
    }
   ],
   "source": [
    "dtd_results = dtd_stage.evaluate(ensemble, ensemble)"
   ]
  },
  {
   "cell_type": "code",
   "execution_count": 6,
   "metadata": {},
   "outputs": [
    {
     "data": {
      "text/html": [
       "<div>\n",
       "<style scoped>\n",
       "    .dataframe tbody tr th:only-of-type {\n",
       "        vertical-align: middle;\n",
       "    }\n",
       "\n",
       "    .dataframe tbody tr th {\n",
       "        vertical-align: top;\n",
       "    }\n",
       "\n",
       "    .dataframe thead th {\n",
       "        text-align: right;\n",
       "    }\n",
       "</style>\n",
       "<table border=\"1\" class=\"dataframe\">\n",
       "  <thead>\n",
       "    <tr style=\"text-align: right;\">\n",
       "      <th></th>\n",
       "      <th>cvm</th>\n",
       "      <th>kld</th>\n",
       "      <th>ks</th>\n",
       "    </tr>\n",
       "  </thead>\n",
       "  <tbody>\n",
       "    <tr>\n",
       "      <th>0</th>\n",
       "      <td>0.180647</td>\n",
       "      <td>0.0</td>\n",
       "      <td>0.100664</td>\n",
       "    </tr>\n",
       "    <tr>\n",
       "      <th>1</th>\n",
       "      <td>0.224506</td>\n",
       "      <td>0.0</td>\n",
       "      <td>0.086585</td>\n",
       "    </tr>\n",
       "    <tr>\n",
       "      <th>2</th>\n",
       "      <td>0.067295</td>\n",
       "      <td>0.0</td>\n",
       "      <td>0.060202</td>\n",
       "    </tr>\n",
       "    <tr>\n",
       "      <th>3</th>\n",
       "      <td>0.087015</td>\n",
       "      <td>0.0</td>\n",
       "      <td>0.097484</td>\n",
       "    </tr>\n",
       "    <tr>\n",
       "      <th>4</th>\n",
       "      <td>0.067235</td>\n",
       "      <td>0.0</td>\n",
       "      <td>0.084706</td>\n",
       "    </tr>\n",
       "    <tr>\n",
       "      <th>...</th>\n",
       "      <td>...</td>\n",
       "      <td>...</td>\n",
       "      <td>...</td>\n",
       "    </tr>\n",
       "    <tr>\n",
       "      <th>20444</th>\n",
       "      <td>0.164662</td>\n",
       "      <td>0.0</td>\n",
       "      <td>0.097897</td>\n",
       "    </tr>\n",
       "    <tr>\n",
       "      <th>20445</th>\n",
       "      <td>0.041221</td>\n",
       "      <td>0.0</td>\n",
       "      <td>0.070152</td>\n",
       "    </tr>\n",
       "    <tr>\n",
       "      <th>20446</th>\n",
       "      <td>0.462456</td>\n",
       "      <td>0.0</td>\n",
       "      <td>0.068942</td>\n",
       "    </tr>\n",
       "    <tr>\n",
       "      <th>20447</th>\n",
       "      <td>0.055140</td>\n",
       "      <td>0.0</td>\n",
       "      <td>0.066168</td>\n",
       "    </tr>\n",
       "    <tr>\n",
       "      <th>20448</th>\n",
       "      <td>0.136988</td>\n",
       "      <td>0.0</td>\n",
       "      <td>0.077010</td>\n",
       "    </tr>\n",
       "  </tbody>\n",
       "</table>\n",
       "<p>20449 rows × 3 columns</p>\n",
       "</div>"
      ],
      "text/plain": [
       "            cvm  kld        ks\n",
       "0      0.180647  0.0  0.100664\n",
       "1      0.224506  0.0  0.086585\n",
       "2      0.067295  0.0  0.060202\n",
       "3      0.087015  0.0  0.097484\n",
       "4      0.067235  0.0  0.084706\n",
       "...         ...  ...       ...\n",
       "20444  0.164662  0.0  0.097897\n",
       "20445  0.041221  0.0  0.070152\n",
       "20446  0.462456  0.0  0.068942\n",
       "20447  0.055140  0.0  0.066168\n",
       "20448  0.136988  0.0  0.077010\n",
       "\n",
       "[20449 rows x 3 columns]"
      ]
     },
     "execution_count": 6,
     "metadata": {},
     "output_type": "execute_result"
    }
   ],
   "source": [
    "results_df = tables_io.convertObj(dtd_results['output'](), tables_io.types.PD_DATAFRAME)\n",
    "results_df"
   ]
  },
  {
   "cell_type": "markdown",
   "metadata": {},
   "source": [
    "# Dist to Point Evaluation"
   ]
  },
  {
   "cell_type": "code",
   "execution_count": 7,
   "metadata": {},
   "outputs": [],
   "source": [
    "stage_dict = dict(\n",
    "    metrics=['cdeloss'],\n",
    "    _random_state=None,\n",
    ")\n",
    "dtp_stage = DistToPointEvaluator.make_stage(name='dist_to_point', **stage_dict)"
   ]
  },
  {
   "cell_type": "code",
   "execution_count": 8,
   "metadata": {},
   "outputs": [
    {
     "name": "stdout",
     "output_type": "stream",
     "text": [
      "Requested metrics: ['cdeloss']\n",
      "Processing 0 running evaluator on chunk 0 - 1000.\n",
      "cdeloss with output type MetricOutputType.single_value does not support parallel processing yet\n",
      "Inserting handle into data store.  output_dist_to_point: inprogress_output_dist_to_point.hdf5, dist_to_point\n",
      "Processing 0 running evaluator on chunk 1000 - 2000.\n",
      "cdeloss with output type MetricOutputType.single_value does not support parallel processing yet\n",
      "Processing 0 running evaluator on chunk 2000 - 3000.\n",
      "cdeloss with output type MetricOutputType.single_value does not support parallel processing yet\n",
      "Processing 0 running evaluator on chunk 3000 - 4000.\n",
      "cdeloss with output type MetricOutputType.single_value does not support parallel processing yet\n",
      "Processing 0 running evaluator on chunk 4000 - 5000.\n",
      "cdeloss with output type MetricOutputType.single_value does not support parallel processing yet\n",
      "Processing 0 running evaluator on chunk 5000 - 6000.\n",
      "cdeloss with output type MetricOutputType.single_value does not support parallel processing yet\n",
      "Processing 0 running evaluator on chunk 6000 - 7000.\n",
      "cdeloss with output type MetricOutputType.single_value does not support parallel processing yet\n",
      "Processing 0 running evaluator on chunk 7000 - 8000.\n",
      "cdeloss with output type MetricOutputType.single_value does not support parallel processing yet\n",
      "Processing 0 running evaluator on chunk 8000 - 9000.\n",
      "cdeloss with output type MetricOutputType.single_value does not support parallel processing yet\n",
      "Processing 0 running evaluator on chunk 9000 - 10000.\n",
      "cdeloss with output type MetricOutputType.single_value does not support parallel processing yet\n",
      "Processing 0 running evaluator on chunk 10000 - 11000.\n",
      "cdeloss with output type MetricOutputType.single_value does not support parallel processing yet\n",
      "Processing 0 running evaluator on chunk 11000 - 12000.\n",
      "cdeloss with output type MetricOutputType.single_value does not support parallel processing yet\n",
      "Processing 0 running evaluator on chunk 12000 - 13000.\n",
      "cdeloss with output type MetricOutputType.single_value does not support parallel processing yet\n",
      "Processing 0 running evaluator on chunk 13000 - 14000.\n",
      "cdeloss with output type MetricOutputType.single_value does not support parallel processing yet\n",
      "Processing 0 running evaluator on chunk 14000 - 15000.\n",
      "cdeloss with output type MetricOutputType.single_value does not support parallel processing yet\n",
      "Processing 0 running evaluator on chunk 15000 - 16000.\n",
      "cdeloss with output type MetricOutputType.single_value does not support parallel processing yet\n",
      "Processing 0 running evaluator on chunk 16000 - 17000.\n",
      "cdeloss with output type MetricOutputType.single_value does not support parallel processing yet\n",
      "Processing 0 running evaluator on chunk 17000 - 18000.\n",
      "cdeloss with output type MetricOutputType.single_value does not support parallel processing yet\n",
      "Processing 0 running evaluator on chunk 18000 - 19000.\n",
      "cdeloss with output type MetricOutputType.single_value does not support parallel processing yet\n",
      "Processing 0 running evaluator on chunk 19000 - 20000.\n",
      "cdeloss with output type MetricOutputType.single_value does not support parallel processing yet\n",
      "Processing 0 running evaluator on chunk 20000 - 20449.\n",
      "cdeloss with output type MetricOutputType.single_value does not support parallel processing yet\n",
      "Inserting handle into data store.  summary_dist_to_point: inprogress_summary_dist_to_point.hdf5, dist_to_point\n"
     ]
    }
   ],
   "source": [
    "dtp_results = dtp_stage.evaluate(ensemble, ztrue_data)"
   ]
  },
  {
   "cell_type": "code",
   "execution_count": 9,
   "metadata": {},
   "outputs": [
    {
     "data": {
      "text/html": [
       "<div>\n",
       "<style scoped>\n",
       "    .dataframe tbody tr th:only-of-type {\n",
       "        vertical-align: middle;\n",
       "    }\n",
       "\n",
       "    .dataframe tbody tr th {\n",
       "        vertical-align: top;\n",
       "    }\n",
       "\n",
       "    .dataframe thead th {\n",
       "        text-align: right;\n",
       "    }\n",
       "</style>\n",
       "<table border=\"1\" class=\"dataframe\">\n",
       "  <thead>\n",
       "    <tr style=\"text-align: right;\">\n",
       "      <th></th>\n",
       "    </tr>\n",
       "  </thead>\n",
       "  <tbody>\n",
       "  </tbody>\n",
       "</table>\n",
       "</div>"
      ],
      "text/plain": [
       "Empty DataFrame\n",
       "Columns: []\n",
       "Index: []"
      ]
     },
     "execution_count": 9,
     "metadata": {},
     "output_type": "execute_result"
    }
   ],
   "source": [
    "results_df = tables_io.convertObj(dtp_results['output'](), tables_io.types.PD_DATAFRAME)\n",
    "results_df"
   ]
  },
  {
   "cell_type": "markdown",
   "metadata": {},
   "source": [
    "# Point to Point Evaluation"
   ]
  },
  {
   "cell_type": "code",
   "execution_count": 10,
   "metadata": {},
   "outputs": [],
   "source": [
    "stage_dict = dict(\n",
    "    metrics=['point_stats_ez', 'point_stats_iqr'],\n",
    "    _random_state=None,\n",
    "    hdf5_groupname='photometry',\n",
    "    point_estimate_key='zmode',\n",
    "    chunk_size=10000,\n",
    ")\n",
    "ptp_stage = PointToPointEvaluator.make_stage(name='point_to_point', **stage_dict)"
   ]
  },
  {
   "cell_type": "code",
   "execution_count": null,
   "metadata": {},
   "outputs": [],
   "source": []
  },
  {
   "cell_type": "code",
   "execution_count": 11,
   "metadata": {},
   "outputs": [
    {
     "name": "stdout",
     "output_type": "stream",
     "text": [
      "Requested metrics: ['point_stats_ez', 'point_stats_iqr']\n",
      "Processing 0 running evaluator on chunk 0 - 10000.\n",
      "Inserting handle into data store.  output_point_to_point: inprogress_output_point_to_point.hdf5, point_to_point\n",
      "Processing 0 running evaluator on chunk 10000 - 20000.\n",
      "Processing 0 running evaluator on chunk 20000 - 20449.\n",
      "Inserting handle into data store.  summary_point_to_point: inprogress_summary_point_to_point.hdf5, point_to_point\n"
     ]
    }
   ],
   "source": [
    "ptp_results = ptp_stage.evaluate(ensemble, ztrue_data)"
   ]
  },
  {
   "cell_type": "code",
   "execution_count": 12,
   "metadata": {},
   "outputs": [],
   "source": [
    "results_df = tables_io.convertObj(ptp_results['output'](), tables_io.types.PD_DATAFRAME)"
   ]
  },
  {
   "cell_type": "code",
   "execution_count": 13,
   "metadata": {},
   "outputs": [
    {
     "data": {
      "text/html": [
       "<div>\n",
       "<style scoped>\n",
       "    .dataframe tbody tr th:only-of-type {\n",
       "        vertical-align: middle;\n",
       "    }\n",
       "\n",
       "    .dataframe tbody tr th {\n",
       "        vertical-align: top;\n",
       "    }\n",
       "\n",
       "    .dataframe thead th {\n",
       "        text-align: right;\n",
       "    }\n",
       "</style>\n",
       "<table border=\"1\" class=\"dataframe\">\n",
       "  <thead>\n",
       "    <tr style=\"text-align: right;\">\n",
       "      <th></th>\n",
       "      <th>point_stats_ez</th>\n",
       "    </tr>\n",
       "  </thead>\n",
       "  <tbody>\n",
       "    <tr>\n",
       "      <th>0</th>\n",
       "      <td>-0.022527</td>\n",
       "    </tr>\n",
       "    <tr>\n",
       "      <th>1</th>\n",
       "      <td>-0.021408</td>\n",
       "    </tr>\n",
       "    <tr>\n",
       "      <th>2</th>\n",
       "      <td>-0.042323</td>\n",
       "    </tr>\n",
       "    <tr>\n",
       "      <th>3</th>\n",
       "      <td>0.061233</td>\n",
       "    </tr>\n",
       "    <tr>\n",
       "      <th>4</th>\n",
       "      <td>0.039656</td>\n",
       "    </tr>\n",
       "    <tr>\n",
       "      <th>...</th>\n",
       "      <td>...</td>\n",
       "    </tr>\n",
       "    <tr>\n",
       "      <th>20444</th>\n",
       "      <td>-0.713773</td>\n",
       "    </tr>\n",
       "    <tr>\n",
       "      <th>20445</th>\n",
       "      <td>-0.145784</td>\n",
       "    </tr>\n",
       "    <tr>\n",
       "      <th>20446</th>\n",
       "      <td>-0.005226</td>\n",
       "    </tr>\n",
       "    <tr>\n",
       "      <th>20447</th>\n",
       "      <td>-0.055523</td>\n",
       "    </tr>\n",
       "    <tr>\n",
       "      <th>20448</th>\n",
       "      <td>0.010313</td>\n",
       "    </tr>\n",
       "  </tbody>\n",
       "</table>\n",
       "<p>20449 rows × 1 columns</p>\n",
       "</div>"
      ],
      "text/plain": [
       "       point_stats_ez\n",
       "0           -0.022527\n",
       "1           -0.021408\n",
       "2           -0.042323\n",
       "3            0.061233\n",
       "4            0.039656\n",
       "...               ...\n",
       "20444       -0.713773\n",
       "20445       -0.145784\n",
       "20446       -0.005226\n",
       "20447       -0.055523\n",
       "20448        0.010313\n",
       "\n",
       "[20449 rows x 1 columns]"
      ]
     },
     "execution_count": 13,
     "metadata": {},
     "output_type": "execute_result"
    }
   ],
   "source": [
    "results_df"
   ]
  },
  {
   "cell_type": "code",
   "execution_count": 14,
   "metadata": {},
   "outputs": [],
   "source": [
    "results_summary = tables_io.convertObj(ptp_results['summary'](), tables_io.types.PD_DATAFRAME)"
   ]
  },
  {
   "cell_type": "code",
   "execution_count": 15,
   "metadata": {},
   "outputs": [
    {
     "data": {
      "text/html": [
       "<div>\n",
       "<style scoped>\n",
       "    .dataframe tbody tr th:only-of-type {\n",
       "        vertical-align: middle;\n",
       "    }\n",
       "\n",
       "    .dataframe tbody tr th {\n",
       "        vertical-align: top;\n",
       "    }\n",
       "\n",
       "    .dataframe thead th {\n",
       "        text-align: right;\n",
       "    }\n",
       "</style>\n",
       "<table border=\"1\" class=\"dataframe\">\n",
       "  <thead>\n",
       "    <tr style=\"text-align: right;\">\n",
       "      <th></th>\n",
       "      <th>point_stats_iqr</th>\n",
       "    </tr>\n",
       "  </thead>\n",
       "  <tbody>\n",
       "    <tr>\n",
       "      <th>0</th>\n",
       "      <td>0.020919</td>\n",
       "    </tr>\n",
       "  </tbody>\n",
       "</table>\n",
       "</div>"
      ],
      "text/plain": [
       "   point_stats_iqr\n",
       "0         0.020919"
      ]
     },
     "execution_count": 15,
     "metadata": {},
     "output_type": "execute_result"
    }
   ],
   "source": [
    "results_summary"
   ]
  },
  {
   "cell_type": "code",
   "execution_count": 16,
   "metadata": {},
   "outputs": [],
   "source": [
    "import numpy as np\n",
    "truth = ztrue_data()['photometry']['redshift']\n",
    "estimates = np.squeeze(ensemble().ancil['zmode'])\n",
    "#truth_points = DS.add_data('truth_points', ztrue_data()['photometry']['redshift'], TableHandle, path=ztrue_file)"
   ]
  },
  {
   "cell_type": "code",
   "execution_count": 17,
   "metadata": {},
   "outputs": [],
   "source": [
    "import qp"
   ]
  },
  {
   "cell_type": "code",
   "execution_count": 18,
   "metadata": {},
   "outputs": [],
   "source": [
    "check_iqr = qp.metrics.point_estimate_metric_classes.PointSigmaIQR().evaluate(estimates, truth)"
   ]
  },
  {
   "cell_type": "code",
   "execution_count": 19,
   "metadata": {},
   "outputs": [
    {
     "data": {
      "text/plain": [
       "0.02084700447796729"
      ]
     },
     "execution_count": 19,
     "metadata": {},
     "output_type": "execute_result"
    }
   ],
   "source": [
    "check_iqr"
   ]
  },
  {
   "cell_type": "code",
   "execution_count": 20,
   "metadata": {},
   "outputs": [],
   "source": [
    "vv = (estimates- truth)/(1.+truth)"
   ]
  },
  {
   "cell_type": "code",
   "execution_count": null,
   "metadata": {},
   "outputs": [],
   "source": []
  },
  {
   "cell_type": "code",
   "execution_count": null,
   "metadata": {},
   "outputs": [],
   "source": []
  }
 ],
 "metadata": {
  "kernelspec": {
   "display_name": "Python 3 (ipykernel)",
   "language": "python",
   "name": "python3"
  },
  "language_info": {
   "codemirror_mode": {
    "name": "ipython",
    "version": 3
   },
   "file_extension": ".py",
   "mimetype": "text/x-python",
   "name": "python",
   "nbconvert_exporter": "python",
   "pygments_lexer": "ipython3",
   "version": "3.11.4"
  }
 },
 "nbformat": 4,
 "nbformat_minor": 4
}
