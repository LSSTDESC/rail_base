{
 "cells": [
  {
   "cell_type": "code",
   "execution_count": null,
   "metadata": {},
   "outputs": [],
   "source": [
    "from rail.evaluation.dist_to_point_evaluator import DistToPointEvaluator\n",
    "from rail.core.stage import RailStage\n",
    "from rail.core.data import QPHandle, TableHandle\n",
    "\n",
    "DS = RailStage.data_store\n",
    "DS.__class__.allow_overwrite = True"
   ]
  },
  {
   "cell_type": "code",
   "execution_count": null,
   "metadata": {},
   "outputs": [],
   "source": [
    "# 'cvm' takes about 3.5 minutes to run\n",
    "# 'ad' takes about ~4 minutes to run\n",
    "# 'ks' takes about 2.75 minutes to run\n",
    "# 'kld' takes about X minutes to run\n",
    "stage_dict = dict(\n",
    "    metrics=['cvm', 'ks', 'omega', 'kld'],\n",
    "    _random_state=None,\n",
    ")\n",
    "squish_fish = DistToPointEvaluator.make_stage(name='SillyPoopfish', **stage_dict)\n"
   ]
  },
  {
   "cell_type": "code",
   "execution_count": null,
   "metadata": {},
   "outputs": [],
   "source": [
    "import os\n",
    "from rail.core.utils import find_rail_file\n",
    "possible_local_file = './examples_data/evaluation_data/data/output_fzboost.hdf5'\n",
    "if os.path.exists(possible_local_file):\n",
    "    pdfs_file = os.path.abspath(possible_local_file)\n",
    "else:\n",
    "    pdfs_file = 'examples_data/evaluation_data/data/output_fzboost.hdf5'\n",
    "    try:\n",
    "        os.makedirs(os.path.dirname(pdfs_file))\n",
    "    except FileExistsError:\n",
    "        pass\n",
    "    curl_com = f\"curl -o {pdfs_file} https://portal.nersc.gov/cfs/lsst/PZ/output_fzboost.hdf5\"\n",
    "    os.system(curl_com)\n",
    "\n",
    "ztrue_file = find_rail_file('examples_data/testdata/test_dc2_validation_9816.hdf5')"
   ]
  },
  {
   "cell_type": "code",
   "execution_count": null,
   "metadata": {},
   "outputs": [],
   "source": [
    "ensemble = DS.read_file(key='pdfs_data', handle_class=QPHandle, path=pdfs_file)\n",
    "ztrue_data = DS.read_file('ztrue_data', TableHandle, ztrue_file)"
   ]
  },
  {
   "cell_type": "code",
   "execution_count": null,
   "metadata": {},
   "outputs": [],
   "source": [
    "truth = DS.add_data('truth', ztrue_data()['photometry'], TableHandle, path=ztrue_file)\n",
    "# ensemble = DS.add_data('ensemble', fzdata(), QPHandle, path=pdfs_file)"
   ]
  },
  {
   "cell_type": "code",
   "execution_count": null,
   "metadata": {},
   "outputs": [],
   "source": [
    "squish_results = squish_fish.evaluate(ensemble, truth)"
   ]
  },
  {
   "cell_type": "code",
   "execution_count": null,
   "metadata": {},
   "outputs": [],
   "source": [
    "import tables_io\n",
    "results_df= tables_io.convertObj(squish_results(), tables_io.types.PD_DATAFRAME)\n",
    "results_df"
   ]
  }
 ],
 "metadata": {
  "kernelspec": {
   "display_name": "rail",
   "language": "python",
   "name": "python3"
  },
  "language_info": {
   "codemirror_mode": {
    "name": "ipython",
    "version": 3
   },
   "file_extension": ".py",
   "mimetype": "text/x-python",
   "name": "python",
   "nbconvert_exporter": "python",
   "pygments_lexer": "ipython3",
   "version": "3.11.4"
  }
 },
 "nbformat": 4,
 "nbformat_minor": 2
}
